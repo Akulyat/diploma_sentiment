{
 "cells": [
  {
   "cell_type": "markdown",
   "metadata": {
    "cellId": "tzifpavdqyqewux94undas",
    "execution_id": "830e5068-e231-4b20-9030-53452dcafbb9"
   },
   "source": [
    "Colab related:"
   ]
  },
  {
   "cell_type": "code",
   "execution_count": 85,
   "metadata": {
    "cellId": "twa2b910vetdy3imvw9ke"
   },
   "outputs": [],
   "source": [
    "#!g1.1\n",
    "# from google.colab import drive\n",
    "# drive.mount('/content/drive')\n",
    "\n",
    "# !cp -r \"/content/drive/MyDrive/Colab Notebooks/Diploma/handle_amazon/amazon_en\" .\n",
    "# !cp -r \"/content/drive/MyDrive/Colab Notebooks/Diploma/handle_amazon/amazon_fr\" .\n",
    "# !cp -r \"/content/drive/MyDrive/Colab Notebooks/Diploma/handle_amazon/amazon_de\" .\n",
    "# !cp -r \"/content/drive/MyDrive/Colab Notebooks/Diploma/handle_amazon/amazon_es\" .\n",
    "\n",
    "# !pip install transformers datasets\n"
   ]
  },
  {
   "cell_type": "markdown",
   "metadata": {
    "cellId": "v831r2aygog3x9slcprgqp",
    "execution_id": "a74013cc-2efb-42dd-80f1-0a12cee80be6"
   },
   "source": [
    "DS related:"
   ]
  },
  {
   "cell_type": "code",
   "execution_count": 86,
   "metadata": {
    "cellId": "6l4nyns1vqw0te31t4kcxiq"
   },
   "outputs": [],
   "source": [
    "#!g1.1\n",
    "# %pip install seaborn\n",
    "# %pip install transformers datasets\n",
    "\n"
   ]
  },
  {
   "cell_type": "markdown",
   "metadata": {
    "cellId": "rxhcw6use2ebj2mdo2000h",
    "execution_id": "53df0442-587e-4685-9ec9-86482a271522"
   },
   "source": [
    "## Imports"
   ]
  },
  {
   "cell_type": "code",
   "execution_count": 94,
   "metadata": {
    "cellId": "fxdwij12bpolkqq4qile0p"
   },
   "outputs": [],
   "source": [
    "#!g1.1\n",
    "from transformers import DistilBertTokenizer, DistilBertForSequenceClassification\n",
    "import torch\n",
    "import numpy as np\n",
    "import pandas as pd\n",
    "import seaborn as sns\n",
    "from tqdm import tqdm\n",
    "\n",
    "\n",
    "from torch.utils.data import DataLoader\n",
    "\n",
    "def nice_df(df, axis=None, reverse=False, **kwargs):\n",
    "    cm = sns.light_palette(\"green\", as_cmap=True, reverse=reverse)\n",
    "    return df.style.background_gradient(cmap=cm, axis=axis, **kwargs)\n",
    "\n",
    "device = torch.device(\"cuda\")\n",
    "\n"
   ]
  },
  {
   "cell_type": "markdown",
   "metadata": {
    "cellId": "feqye9ul8wpeaqq4kq58fh",
    "execution_id": "83e0eeb9-4dac-46c5-9b1a-17bdaa432b79"
   },
   "source": [
    "## Loading Data"
   ]
  },
  {
   "cell_type": "code",
   "execution_count": 88,
   "metadata": {
    "cellId": "xtgnwed3pic2eib69a5kdo"
   },
   "outputs": [],
   "source": [
    "#!g1.1\n",
    "\n",
    "# !unzip handle_amazon\n"
   ]
  },
  {
   "cell_type": "code",
   "execution_count": 91,
   "metadata": {
    "cellId": "u48gfhuc15rxodqn8e2oh"
   },
   "outputs": [],
   "source": [
    "#!g1.1\n",
    "from datasets import concatenate_datasets, load_from_disk\n",
    "\n",
    "BS = 32\n",
    "lang_list = ['en', 'fr', 'de', 'es']\n",
    "split_list = ['train', 'validation', 'test']\n",
    "\n",
    "\n",
    "# data = {\n",
    "#     lang: load_from_disk(f'handle_amazon/amazon_{lang}')\n",
    "#     for lang in lang_list\n",
    "# }\n",
    "\n",
    "tr_data = {\n",
    "    lang: load_from_disk(f'handle_amazon/amazon_ok_tr_{lang}')\n",
    "    for lang in lang_list\n",
    "}\n",
    "\n",
    "dataloader = {\n",
    "    lang: {\n",
    "        split: DataLoader(tr_data[lang][split], batch_size=BS, shuffle=(split == 'train'))\n",
    "        for split in split_list\n",
    "    }\n",
    "    for lang in lang_list\n",
    "}\n",
    "\n"
   ]
  },
  {
   "cell_type": "markdown",
   "metadata": {
    "cellId": "l7nvel55c7kc331er7atci",
    "execution_id": "777950a7-9487-4242-aff7-243dd9749a83"
   },
   "source": [
    "## Model"
   ]
  },
  {
   "cell_type": "code",
   "execution_count": 92,
   "metadata": {
    "cellId": "dvhg8jfj2rmlm4lcit0ekd"
   },
   "outputs": [
    {
     "data": {
      "application/vnd.jupyter.widget-view+json": {
       "model_id": "c9a00269a23b4982b500998a62671ffd",
       "version_major": 2,
       "version_minor": 0
      },
      "text/plain": [
       "Downloading:   0%|          | 0.00/483 [00:00<?, ?B/s]"
      ]
     },
     "metadata": {},
     "output_type": "display_data"
    },
    {
     "data": {
      "application/vnd.jupyter.widget-view+json": {
       "model_id": "b589949b4e12486fa2c61a851e94e824",
       "version_major": 2,
       "version_minor": 0
      },
      "text/plain": [
       "Downloading:   0%|          | 0.00/256M [00:00<?, ?B/s]"
      ]
     },
     "metadata": {},
     "output_type": "display_data"
    },
    {
     "name": "stderr",
     "output_type": "stream",
     "text": [
      "Some weights of the model checkpoint at distilbert-base-uncased were not used when initializing DistilBertForSequenceClassification: ['vocab_projector.weight', 'vocab_projector.bias', 'vocab_layer_norm.weight', 'vocab_transform.bias', 'vocab_layer_norm.bias', 'vocab_transform.weight']\n",
      "- This IS expected if you are initializing DistilBertForSequenceClassification from the checkpoint of a model trained on another task or with another architecture (e.g. initializing a BertForSequenceClassification model from a BertForPreTraining model).\n",
      "- This IS NOT expected if you are initializing DistilBertForSequenceClassification from the checkpoint of a model that you expect to be exactly identical (initializing a BertForSequenceClassification model from a BertForSequenceClassification model).\n",
      "Some weights of DistilBertForSequenceClassification were not initialized from the model checkpoint at distilbert-base-uncased and are newly initialized: ['classifier.weight', 'classifier.bias', 'pre_classifier.weight', 'pre_classifier.bias']\n",
      "You should probably TRAIN this model on a down-stream task to be able to use it for predictions and inference.\n",
      "Some weights of the model checkpoint at distilbert-base-uncased were not used when initializing DistilBertForSequenceClassification: ['vocab_projector.weight', 'vocab_projector.bias', 'vocab_layer_norm.weight', 'vocab_transform.bias', 'vocab_layer_norm.bias', 'vocab_transform.weight']\n",
      "- This IS expected if you are initializing DistilBertForSequenceClassification from the checkpoint of a model trained on another task or with another architecture (e.g. initializing a BertForSequenceClassification model from a BertForPreTraining model).\n",
      "- This IS NOT expected if you are initializing DistilBertForSequenceClassification from the checkpoint of a model that you expect to be exactly identical (initializing a BertForSequenceClassification model from a BertForSequenceClassification model).\n",
      "Some weights of DistilBertForSequenceClassification were not initialized from the model checkpoint at distilbert-base-uncased and are newly initialized: ['classifier.weight', 'classifier.bias', 'pre_classifier.weight', 'pre_classifier.bias']\n",
      "You should probably TRAIN this model on a down-stream task to be able to use it for predictions and inference.\n",
      "Some weights of the model checkpoint at distilbert-base-uncased were not used when initializing DistilBertForSequenceClassification: ['vocab_projector.weight', 'vocab_projector.bias', 'vocab_layer_norm.weight', 'vocab_transform.bias', 'vocab_layer_norm.bias', 'vocab_transform.weight']\n",
      "- This IS expected if you are initializing DistilBertForSequenceClassification from the checkpoint of a model trained on another task or with another architecture (e.g. initializing a BertForSequenceClassification model from a BertForPreTraining model).\n",
      "- This IS NOT expected if you are initializing DistilBertForSequenceClassification from the checkpoint of a model that you expect to be exactly identical (initializing a BertForSequenceClassification model from a BertForSequenceClassification model).\n",
      "Some weights of DistilBertForSequenceClassification were not initialized from the model checkpoint at distilbert-base-uncased and are newly initialized: ['classifier.weight', 'classifier.bias', 'pre_classifier.weight', 'pre_classifier.bias']\n",
      "You should probably TRAIN this model on a down-stream task to be able to use it for predictions and inference.\n",
      "Some weights of the model checkpoint at distilbert-base-uncased were not used when initializing DistilBertForSequenceClassification: ['vocab_projector.weight', 'vocab_projector.bias', 'vocab_layer_norm.weight', 'vocab_transform.bias', 'vocab_layer_norm.bias', 'vocab_transform.weight']\n",
      "- This IS expected if you are initializing DistilBertForSequenceClassification from the checkpoint of a model trained on another task or with another architecture (e.g. initializing a BertForSequenceClassification model from a BertForPreTraining model).\n",
      "- This IS NOT expected if you are initializing DistilBertForSequenceClassification from the checkpoint of a model that you expect to be exactly identical (initializing a BertForSequenceClassification model from a BertForSequenceClassification model).\n",
      "Some weights of DistilBertForSequenceClassification were not initialized from the model checkpoint at distilbert-base-uncased and are newly initialized: ['classifier.weight', 'classifier.bias', 'pre_classifier.weight', 'pre_classifier.bias']\n",
      "You should probably TRAIN this model on a down-stream task to be able to use it for predictions and inference.\n"
     ]
    },
    {
     "name": "stdout",
     "output_type": "stream",
     "text": [
      "tensor([[ 0.3267,  0.0176,  0.1214,  ...,  0.0836, -0.0200, -0.1360],\n",
      "        [ 0.1976,  0.1497,  0.1829,  ...,  0.0148,  0.0260, -0.0101],\n",
      "        [ 0.1492,  0.0464,  0.1645,  ..., -0.0861, -0.0884,  0.0062],\n",
      "        ...,\n",
      "        [ 0.1911,  0.1054, -0.0288,  ..., -0.0056,  0.0567, -0.1306],\n",
      "        [ 0.1369,  0.0744,  0.1030,  ...,  0.0234, -0.1261, -0.0686],\n",
      "        [ 0.1460,  0.2451,  0.0183,  ...,  0.1160, -0.0157, -0.1809]],\n",
      "       device='cuda:0')\n",
      "tensor([[-0.0947, -0.0214],\n",
      "        [-0.0924, -0.0269],\n",
      "        [-0.0674,  0.0395],\n",
      "        [-0.0349, -0.0645],\n",
      "        [-0.0661, -0.0269],\n",
      "        [-0.0534, -0.0090],\n",
      "        [-0.0786, -0.0016],\n",
      "        [-0.0903, -0.0668],\n",
      "        [-0.1296, -0.0019],\n",
      "        [-0.0911, -0.0055],\n",
      "        [-0.1448, -0.0142],\n",
      "        [-0.0348, -0.0198],\n",
      "        [-0.0839, -0.0274],\n",
      "        [-0.0551, -0.0068],\n",
      "        [-0.0893,  0.0167],\n",
      "        [-0.1206, -0.0016],\n",
      "        [-0.1080,  0.0143],\n",
      "        [-0.1051, -0.0923],\n",
      "        [-0.1024, -0.0189],\n",
      "        [-0.1415,  0.0164],\n",
      "        [-0.0657, -0.0220],\n",
      "        [-0.0578, -0.0438],\n",
      "        [-0.0797, -0.0075],\n",
      "        [-0.1328, -0.0375],\n",
      "        [-0.0033,  0.0094],\n",
      "        [-0.0791,  0.0116],\n",
      "        [-0.0710, -0.0303],\n",
      "        [-0.0593, -0.0082],\n",
      "        [-0.0428, -0.0220],\n",
      "        [-0.0983,  0.0034],\n",
      "        [-0.1020,  0.0013],\n",
      "        [-0.1156, -0.0160]], device='cuda:0')\n",
      "tensor([1, 1, 1, 0, 1, 1, 1, 1, 1, 1, 1, 1, 1, 1, 1, 1, 1, 1, 1, 1, 1, 1, 1, 1,\n",
      "        1, 1, 1, 1, 1, 1, 1, 1], device='cuda:0')\n"
     ]
    }
   ],
   "source": [
    "#!g1.1\n",
    "id2label = {0: \"NEGATIVE\", 1: \"POSITIVE\"}\n",
    "label2id = {\"NEGATIVE\": 0, \"POSITIVE\": 1}\n",
    "\n",
    "models = dict()\n",
    "for lang in lang_list:\n",
    "    models[lang] = DistilBertForSequenceClassification.from_pretrained(\"distilbert-base-uncased\", num_labels=2, id2label=id2label, label2id=label2id, output_hidden_states=True)\n",
    "    models[lang].to(device)\n",
    "    for param in models[lang].base_model.parameters():\n",
    "        param.requires_grad = False\n",
    "\n",
    "\n",
    "with torch.no_grad():\n",
    "    for batch in dataloader['en']['test']:\n",
    "        i_d = batch[\"input_ids\"].to(device)\n",
    "        a_m = batch[\"attention_mask\"].to(device)\n",
    "        batch_hs = models['en'](\n",
    "                input_ids=i_d,\n",
    "                attention_mask=a_m,\n",
    "            ).hidden_states[-1].mean(dim=1)    \n",
    "        print(batch_hs)\n",
    "\n",
    "        logits = models['en'](\n",
    "                input_ids=i_d,\n",
    "                attention_mask=a_m,\n",
    "            ).logits    \n",
    "        print(logits)\n",
    "\n",
    "        print(torch.argmax(\n",
    "            models['en'](\n",
    "                input_ids=i_d,\n",
    "                attention_mask=a_m,\n",
    "            ).logits,\n",
    "            axis=-1\n",
    "        ))\n",
    "        break\n"
   ]
  },
  {
   "cell_type": "code",
   "execution_count": 93,
   "metadata": {
    "cellId": "iqyx4dgc9ssvmbltew77l"
   },
   "outputs": [
    {
     "name": "stdout",
     "output_type": "stream",
     "text": [
      "pre_classifier.weight torch.Size([768, 768]) True\n",
      "pre_classifier.bias torch.Size([768]) True\n",
      "classifier.weight torch.Size([2, 768]) True\n",
      "classifier.bias torch.Size([2]) True\n"
     ]
    }
   ],
   "source": [
    "#!g1.1\n",
    "for name, param in models['en'].named_parameters():\n",
    "    if 'clas' in name:\n",
    "        print(name, param.shape, param.requires_grad)\n",
    "    else:\n",
    "        assert not param.requires_grad\n"
   ]
  },
  {
   "cell_type": "markdown",
   "metadata": {
    "cellId": "2tx9ggh41g2u7nnvdtxwyq",
    "execution_id": "1fe0c94e-5d0d-4ce7-8ebf-a6d2eddc350a"
   },
   "source": [
    "## Eval and Training"
   ]
  },
  {
   "cell_type": "code",
   "execution_count": 102,
   "metadata": {
    "cellId": "avhaedat3cbxjqz4secpwh"
   },
   "outputs": [],
   "source": [
    "#!g1.1\n",
    "def eval(model, dls, lang, test_split):\n",
    "    # put model in eval mode\n",
    "    model.eval()\n",
    "\n",
    "    # get needful data slice\n",
    "    dl_to_test = dls[lang][test_split]\n",
    "    \n",
    "    test_loss = 0\n",
    "    test_acc = 0\n",
    "    \n",
    "    with torch.no_grad():\n",
    "        for batch in tqdm(dl_to_test):\n",
    "            # move batch to device\n",
    "            input_ids = batch['input_ids'].to(model.device)\n",
    "            attention_mask = batch['attention_mask'].to(model.device)\n",
    "            labels = batch['bin_label'].to(model.device)\n",
    "\n",
    "            # forward pass\n",
    "            outputs = model(input_ids=input_ids, attention_mask=attention_mask)\n",
    "            logits = outputs.logits\n",
    "\n",
    "            # calculate loss and accuracy\n",
    "            preds = logits.argmax(dim=1)\n",
    "            test_acc += (preds == labels).sum().item()\n",
    "\n",
    "    test_acc /= BS * len(dl_to_test)\n",
    "    print(f'\\teval {lang}: {test_acc}')\n",
    "    return test_acc\n"
   ]
  },
  {
   "cell_type": "code",
   "execution_count": 103,
   "metadata": {
    "cellId": "84x8yyc3nemue9h5ppg4ob"
   },
   "outputs": [],
   "source": [
    "#!g1.1\n",
    "def train(model, dls, lang, train_split, validation_split, num_epochs=2, device='mps'):\n",
    "    # put model on mps device\n",
    "    model.to(device)\n",
    "    \n",
    "    # get needful data slice\n",
    "    dl_to_train = dls[lang][train_split]\n",
    "    dl_to_valid = dls[lang][validation_split]\n",
    "\n",
    "    # define our optimizer and loss function\n",
    "    optimizer = torch.optim.AdamW(model.parameters(), lr=2e-5)\n",
    "    loss_fn = torch.nn.CrossEntropyLoss()\n",
    "\n",
    "    for epoch in range(num_epochs):\n",
    "        # train loop\n",
    "        model.train()\n",
    "        train_loss = 0\n",
    "        train_acc = 0\n",
    "        for batch in tqdm(dl_to_train):\n",
    "            # move batch to device\n",
    "            input_ids = batch['input_ids'].to(model.device)\n",
    "            attention_mask = batch['attention_mask'].to(model.device)\n",
    "            labels = batch['bin_label'].to(model.device)\n",
    "\n",
    "            # zero out gradients\n",
    "            optimizer.zero_grad()\n",
    "\n",
    "            # forward pass\n",
    "            outputs = model(input_ids=input_ids, attention_mask=attention_mask)\n",
    "            logits = outputs.logits\n",
    "\n",
    "            # calculate loss and accuracy\n",
    "            loss = loss_fn(logits, labels)\n",
    "            train_loss += loss.item()\n",
    "            preds = logits.argmax(dim=1)\n",
    "            train_acc += (preds == labels).sum().item()\n",
    "\n",
    "            # backward pass\n",
    "            loss.backward()\n",
    "\n",
    "            # update weights\n",
    "            optimizer.step()\n",
    "\n",
    "        train_acc /= BS * len(dl_to_train)\n",
    "        valid_acc = eval(model, dls, lang, validation_split)\n",
    "        print(f'train {lang}: {train_acc} (val {valid_acc})')\n",
    "    return model\n",
    "\n"
   ]
  },
  {
   "cell_type": "markdown",
   "metadata": {
    "cellId": "yrd3fhstfjgijz0jbsxaw9",
    "execution_id": "87577d51-7415-4643-abc2-50d482b82256"
   },
   "source": [
    "## All Lang Models"
   ]
  },
  {
   "cell_type": "code",
   "execution_count": 107,
   "metadata": {
    "cellId": "8c7swb5tp9bgz938gqeq6c"
   },
   "outputs": [
    {
     "name": "stdout",
     "output_type": "stream",
     "text": [
      "\teval en: 0.861\n",
      "train en: 0.8488625 (val 0.861)\n",
      "\teval en: 0.86925\n",
      "train en: 0.8619125 (val 0.86925)\n",
      "\teval en: 0.87025\n",
      "train en: 0.8650625 (val 0.87025)\n",
      "\teval fr: 0.7455\n",
      "train fr: 0.6971875 (val 0.7455)\n",
      "\teval fr: 0.7595\n",
      "train fr: 0.73629375 (val 0.7595)\n",
      "\teval fr: 0.76825\n",
      "train fr: 0.74451875 (val 0.76825)\n",
      "\teval de: 0.69875\n",
      "train de: 0.638375 (val 0.69875)\n",
      "\teval de: 0.713\n",
      "train de: 0.68404375 (val 0.713)\n",
      "\teval de: 0.7295\n",
      "train de: 0.69721875 (val 0.7295)\n"
     ]
    },
    {
     "name": "stderr",
     "output_type": "stream",
     "text": [
      "100%|██████████| 5000/5000 [16:09<00:00,  5.16it/s]\n",
      "100%|██████████| 125/125 [00:23<00:00,  5.43it/s]\n",
      "100%|██████████| 5000/5000 [16:09<00:00,  5.16it/s]\n",
      "100%|██████████| 125/125 [00:22<00:00,  5.44it/s]\n",
      "100%|██████████| 5000/5000 [16:12<00:00,  5.14it/s]\n",
      "100%|██████████| 125/125 [00:23<00:00,  5.42it/s]\n"
     ]
    },
    {
     "name": "stdout",
     "output_type": "stream",
     "text": [
      "\teval es: 0.76325\n",
      "train es: 0.69039375 (val 0.76325)\n"
     ]
    },
    {
     "name": "stderr",
     "output_type": "stream",
     "text": [
      "100%|██████████| 5000/5000 [16:13<00:00,  5.14it/s]\n",
      "100%|██████████| 125/125 [00:23<00:00,  5.42it/s]\n"
     ]
    },
    {
     "name": "stdout",
     "output_type": "stream",
     "text": [
      "\teval es: 0.77925\n",
      "train es: 0.74000625 (val 0.77925)\n"
     ]
    },
    {
     "name": "stderr",
     "output_type": "stream",
     "text": [
      "100%|██████████| 5000/5000 [16:04<00:00,  5.18it/s]\n",
      "100%|██████████| 125/125 [00:22<00:00,  5.48it/s]"
     ]
    },
    {
     "name": "stdout",
     "output_type": "stream",
     "text": [
      "\teval es: 0.79075\n",
      "train es: 0.74936875 (val 0.79075)\n"
     ]
    },
    {
     "name": "stderr",
     "output_type": "stream",
     "text": [
      "\n"
     ]
    }
   ],
   "source": [
    "#!g1.1\n",
    "for lang in lang_list:\n",
    "    train(models[lang], dataloader, lang, 'train', 'validation', num_epochs=3, device=device)\n"
   ]
  },
  {
   "cell_type": "code",
   "execution_count": 108,
   "metadata": {
    "cellId": "c2a6zdgk8iqi1qw2gd1mkj"
   },
   "outputs": [],
   "source": [
    "#!g1.1\n",
    "\n",
    "# for lang in lang_list:\n",
    "#     if lang != 'en':\n",
    "#         train(models[lang], dataloader, lang, 'train', 'validation', lang=lang, num_epochs=3, device=device)\n"
   ]
  },
  {
   "cell_type": "code",
   "execution_count": 109,
   "metadata": {
    "cellId": "mxlcro8et1n13c8ocxff2c"
   },
   "outputs": [
    {
     "name": "stderr",
     "output_type": "stream",
     "text": [
      "100%|██████████| 125/125 [00:22<00:00,  5.47it/s]\n"
     ]
    },
    {
     "name": "stdout",
     "output_type": "stream",
     "text": [
      "\teval en: 0.874\n"
     ]
    },
    {
     "name": "stderr",
     "output_type": "stream",
     "text": [
      "100%|██████████| 125/125 [00:22<00:00,  5.47it/s]\n"
     ]
    },
    {
     "name": "stdout",
     "output_type": "stream",
     "text": [
      "\teval fr: 0.76225\n"
     ]
    },
    {
     "name": "stderr",
     "output_type": "stream",
     "text": [
      "100%|██████████| 125/125 [00:22<00:00,  5.46it/s]\n"
     ]
    },
    {
     "name": "stdout",
     "output_type": "stream",
     "text": [
      "\teval de: 0.73575\n"
     ]
    },
    {
     "name": "stderr",
     "output_type": "stream",
     "text": [
      "100%|██████████| 125/125 [00:22<00:00,  5.47it/s]"
     ]
    },
    {
     "name": "stdout",
     "output_type": "stream",
     "text": [
      "\teval es: 0.793\n"
     ]
    },
    {
     "name": "stderr",
     "output_type": "stream",
     "text": [
      "\n"
     ]
    },
    {
     "data": {
      "text/html": [
       "<style  type=\"text/css\" >\n",
       "    #T_dcfd24a4_f4b4_11ed_b2fd_d00d1a4b4d6arow0_col0 {\n",
       "            background-color:  #008000;\n",
       "            color:  #f1f1f1;\n",
       "        }    #T_dcfd24a4_f4b4_11ed_b2fd_d00d1a4b4d6arow1_col0 {\n",
       "            background-color:  #bdddbd;\n",
       "            color:  #000000;\n",
       "        }    #T_dcfd24a4_f4b4_11ed_b2fd_d00d1a4b4d6arow2_col0 {\n",
       "            background-color:  #ebf3eb;\n",
       "            color:  #000000;\n",
       "        }    #T_dcfd24a4_f4b4_11ed_b2fd_d00d1a4b4d6arow3_col0 {\n",
       "            background-color:  #89c389;\n",
       "            color:  #000000;\n",
       "        }</style><table id=\"T_dcfd24a4_f4b4_11ed_b2fd_d00d1a4b4d6a\" ><thead>    <tr>        <th class=\"blank level0\" ></th>        <th class=\"col_heading level0 col0\" >finetune</th>    </tr></thead><tbody>\n",
       "                <tr>\n",
       "                        <th id=\"T_dcfd24a4_f4b4_11ed_b2fd_d00d1a4b4d6alevel0_row0\" class=\"row_heading level0 row0\" >en</th>\n",
       "                        <td id=\"T_dcfd24a4_f4b4_11ed_b2fd_d00d1a4b4d6arow0_col0\" class=\"data row0 col0\" >0.874</td>\n",
       "            </tr>\n",
       "            <tr>\n",
       "                        <th id=\"T_dcfd24a4_f4b4_11ed_b2fd_d00d1a4b4d6alevel0_row1\" class=\"row_heading level0 row1\" >fr</th>\n",
       "                        <td id=\"T_dcfd24a4_f4b4_11ed_b2fd_d00d1a4b4d6arow1_col0\" class=\"data row1 col0\" >0.76225</td>\n",
       "            </tr>\n",
       "            <tr>\n",
       "                        <th id=\"T_dcfd24a4_f4b4_11ed_b2fd_d00d1a4b4d6alevel0_row2\" class=\"row_heading level0 row2\" >de</th>\n",
       "                        <td id=\"T_dcfd24a4_f4b4_11ed_b2fd_d00d1a4b4d6arow2_col0\" class=\"data row2 col0\" >0.73575</td>\n",
       "            </tr>\n",
       "            <tr>\n",
       "                        <th id=\"T_dcfd24a4_f4b4_11ed_b2fd_d00d1a4b4d6alevel0_row3\" class=\"row_heading level0 row3\" >es</th>\n",
       "                        <td id=\"T_dcfd24a4_f4b4_11ed_b2fd_d00d1a4b4d6arow3_col0\" class=\"data row3 col0\" >0.793</td>\n",
       "            </tr>\n",
       "    </tbody></table>"
      ],
      "text/plain": [
       "<pandas.io.formats.style.Styler at 0x7f74a543fc40>"
      ]
     },
     "execution_count": 109,
     "metadata": {},
     "output_type": "execute_result"
    }
   ],
   "source": [
    "#!g1.1\n",
    "eval_res = pd.DataFrame(data = np.zeros((4, 1)), columns = ['finetune'], index=lang_list)\n",
    "\n",
    "for lang in lang_list:\n",
    "    test_res = eval(models[lang], dataloader, lang, 'test')\n",
    "    eval_res.at[lang, 'finetune'] = test_res\n",
    "\n",
    "nice_df(eval_res)\n"
   ]
  },
  {
   "cell_type": "code",
   "execution_count": 78,
   "metadata": {
    "cellId": "ayqg6di0kxpi3yxynhtkr",
    "execution_id": "aa404641-de70-423e-be22-cae1c630d51e"
   },
   "outputs": [],
   "source": [
    "#!g1.1\n",
    "for lang in lang_list:\n",
    "    models[lang].save_pretrained(f'models/cp1_{lang}')\n",
    "\n"
   ]
  },
  {
   "cell_type": "code",
   "execution_count": 79,
   "metadata": {
    "cellId": "tr8pod1puznnh3sukqor"
   },
   "outputs": [
    {
     "name": "stdout",
     "output_type": "stream",
     "text": [
      "5000\n",
      "125\n",
      "125\n",
      "125\n"
     ]
    }
   ],
   "source": [
    "#!g1.1\n",
    "for lang in lang_list:\n",
    "    print(len(dataloader[lang]['train']))\n"
   ]
  },
  {
   "cell_type": "code",
   "execution_count": null,
   "metadata": {
    "cellId": "mziqfsye3qfxlfhsvr9zhs"
   },
   "outputs": [],
   "source": [
    "#!g1.1\n"
   ]
  }
 ],
 "metadata": {
  "language_info": {
   "codemirror_mode": {
    "name": "ipython",
    "version": 3
   },
   "file_extension": ".py",
   "mimetype": "text/x-python",
   "name": "python",
   "nbconvert_exporter": "python",
   "pygments_lexer": "ipython3",
   "version": "3.7.7"
  },
  "notebookId": "3e8e996c-92bd-41f3-975b-743efc353985",
  "notebookPath": "finetune.ipynb"
 },
 "nbformat": 4,
 "nbformat_minor": 4
}
